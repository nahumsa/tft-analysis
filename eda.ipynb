{
 "cells": [
  {
   "cell_type": "markdown",
   "metadata": {},
   "source": [
    "# EDA"
   ]
  },
  {
   "cell_type": "code",
   "execution_count": 13,
   "metadata": {},
   "outputs": [
    {
     "name": "stdout",
     "output_type": "stream",
     "text": [
      "The autoreload extension is already loaded. To reload it, use:\n",
      "  %reload_ext autoreload\n"
     ]
    }
   ],
   "source": [
    "%load_ext autoreload\n",
    "%autoreload 2"
   ]
  },
  {
   "cell_type": "markdown",
   "metadata": {},
   "source": [
    "# Extracting"
   ]
  },
  {
   "cell_type": "code",
   "execution_count": 23,
   "metadata": {},
   "outputs": [
    {
     "data": {
      "text/html": [
       "<div>\n",
       "<style scoped>\n",
       "    .dataframe tbody tr th:only-of-type {\n",
       "        vertical-align: middle;\n",
       "    }\n",
       "\n",
       "    .dataframe tbody tr th {\n",
       "        vertical-align: top;\n",
       "    }\n",
       "\n",
       "    .dataframe thead th {\n",
       "        text-align: right;\n",
       "    }\n",
       "</style>\n",
       "<table border=\"1\" class=\"dataframe\">\n",
       "  <thead>\n",
       "    <tr style=\"text-align: right;\">\n",
       "      <th></th>\n",
       "      <th>match_id</th>\n",
       "      <th>data_version</th>\n",
       "      <th>level</th>\n",
       "      <th>placement</th>\n",
       "      <th>puuid</th>\n",
       "      <th>Arcanist</th>\n",
       "      <th>Assassin</th>\n",
       "      <th>Bodyguard</th>\n",
       "      <th>Bruiser</th>\n",
       "      <th>Challenger</th>\n",
       "      <th>...</th>\n",
       "      <th>tier_unit_1</th>\n",
       "      <th>tier_unit_2</th>\n",
       "      <th>tier_unit_3</th>\n",
       "      <th>tier_unit_4</th>\n",
       "      <th>tier_unit_5</th>\n",
       "      <th>tier_unit_6</th>\n",
       "      <th>tier_unit_7</th>\n",
       "      <th>tier_unit_8</th>\n",
       "      <th>tier_unit_9</th>\n",
       "      <th>tier_unit_10</th>\n",
       "    </tr>\n",
       "  </thead>\n",
       "  <tbody>\n",
       "    <tr>\n",
       "      <th>0</th>\n",
       "      <td>BR1_2464916541</td>\n",
       "      <td>5</td>\n",
       "      <td>5</td>\n",
       "      <td>8</td>\n",
       "      <td>AgCtAA0toQ3cWziIRpC-z0NdNVENQZOUp245pNmNTrjOr-...</td>\n",
       "      <td>NaN</td>\n",
       "      <td>NaN</td>\n",
       "      <td>4</td>\n",
       "      <td>NaN</td>\n",
       "      <td>4</td>\n",
       "      <td>...</td>\n",
       "      <td>1</td>\n",
       "      <td>1</td>\n",
       "      <td>1</td>\n",
       "      <td>NaN</td>\n",
       "      <td>NaN</td>\n",
       "      <td>NaN</td>\n",
       "      <td>NaN</td>\n",
       "      <td>NaN</td>\n",
       "      <td>NaN</td>\n",
       "      <td>NaN</td>\n",
       "    </tr>\n",
       "    <tr>\n",
       "      <th>1</th>\n",
       "      <td>BR1_2464916541</td>\n",
       "      <td>5</td>\n",
       "      <td>8</td>\n",
       "      <td>3</td>\n",
       "      <td>9z-ng747GUlF9v09NSu9RxZHJCfoHumELo6AqAUuTrEPUk...</td>\n",
       "      <td>NaN</td>\n",
       "      <td>3</td>\n",
       "      <td>NaN</td>\n",
       "      <td>4</td>\n",
       "      <td>NaN</td>\n",
       "      <td>...</td>\n",
       "      <td>2</td>\n",
       "      <td>3</td>\n",
       "      <td>2</td>\n",
       "      <td>2</td>\n",
       "      <td>2</td>\n",
       "      <td>1</td>\n",
       "      <td>1</td>\n",
       "      <td>NaN</td>\n",
       "      <td>NaN</td>\n",
       "      <td>NaN</td>\n",
       "    </tr>\n",
       "    <tr>\n",
       "      <th>2</th>\n",
       "      <td>BR1_2464916541</td>\n",
       "      <td>5</td>\n",
       "      <td>8</td>\n",
       "      <td>4</td>\n",
       "      <td>wcd--Mo9AEvZpHSWeS2oweLfZdMa1PSpaQL2s6rB2MhkuA...</td>\n",
       "      <td>NaN</td>\n",
       "      <td>3</td>\n",
       "      <td>NaN</td>\n",
       "      <td>4</td>\n",
       "      <td>4</td>\n",
       "      <td>...</td>\n",
       "      <td>1</td>\n",
       "      <td>2</td>\n",
       "      <td>2</td>\n",
       "      <td>2</td>\n",
       "      <td>2</td>\n",
       "      <td>2</td>\n",
       "      <td>2</td>\n",
       "      <td>1</td>\n",
       "      <td>NaN</td>\n",
       "      <td>NaN</td>\n",
       "    </tr>\n",
       "    <tr>\n",
       "      <th>3</th>\n",
       "      <td>BR1_2464916541</td>\n",
       "      <td>5</td>\n",
       "      <td>7</td>\n",
       "      <td>7</td>\n",
       "      <td>nAbGX5O9CNt0TBMGSnPj5HazmAa-QUXYPmQbus0RJ0ePtw...</td>\n",
       "      <td>NaN</td>\n",
       "      <td>NaN</td>\n",
       "      <td>4</td>\n",
       "      <td>4</td>\n",
       "      <td>4</td>\n",
       "      <td>...</td>\n",
       "      <td>2</td>\n",
       "      <td>2</td>\n",
       "      <td>1</td>\n",
       "      <td>1</td>\n",
       "      <td>1</td>\n",
       "      <td>1</td>\n",
       "      <td>NaN</td>\n",
       "      <td>NaN</td>\n",
       "      <td>NaN</td>\n",
       "      <td>NaN</td>\n",
       "    </tr>\n",
       "    <tr>\n",
       "      <th>4</th>\n",
       "      <td>BR1_2464916541</td>\n",
       "      <td>5</td>\n",
       "      <td>9</td>\n",
       "      <td>2</td>\n",
       "      <td>l1CFPqEm_Q5uhdDxoKEcXlq5wXLlP_UwOKkyq0Hgkjhhm1...</td>\n",
       "      <td>NaN</td>\n",
       "      <td>NaN</td>\n",
       "      <td>NaN</td>\n",
       "      <td>4</td>\n",
       "      <td>NaN</td>\n",
       "      <td>...</td>\n",
       "      <td>2</td>\n",
       "      <td>2</td>\n",
       "      <td>2</td>\n",
       "      <td>1</td>\n",
       "      <td>2</td>\n",
       "      <td>2</td>\n",
       "      <td>2</td>\n",
       "      <td>1</td>\n",
       "      <td>NaN</td>\n",
       "      <td>NaN</td>\n",
       "    </tr>\n",
       "  </tbody>\n",
       "</table>\n",
       "<p>5 rows × 40 columns</p>\n",
       "</div>"
      ],
      "text/plain": [
       "         match_id data_version level placement  \\\n",
       "0  BR1_2464916541            5     5         8   \n",
       "1  BR1_2464916541            5     8         3   \n",
       "2  BR1_2464916541            5     8         4   \n",
       "3  BR1_2464916541            5     7         7   \n",
       "4  BR1_2464916541            5     9         2   \n",
       "\n",
       "                                               puuid Arcanist Assassin  \\\n",
       "0  AgCtAA0toQ3cWziIRpC-z0NdNVENQZOUp245pNmNTrjOr-...      NaN      NaN   \n",
       "1  9z-ng747GUlF9v09NSu9RxZHJCfoHumELo6AqAUuTrEPUk...      NaN        3   \n",
       "2  wcd--Mo9AEvZpHSWeS2oweLfZdMa1PSpaQL2s6rB2MhkuA...      NaN        3   \n",
       "3  nAbGX5O9CNt0TBMGSnPj5HazmAa-QUXYPmQbus0RJ0ePtw...      NaN      NaN   \n",
       "4  l1CFPqEm_Q5uhdDxoKEcXlq5wXLlP_UwOKkyq0Hgkjhhm1...      NaN      NaN   \n",
       "\n",
       "  Bodyguard Bruiser Challenger  ... tier_unit_1 tier_unit_2 tier_unit_3  \\\n",
       "0         4     NaN          4  ...           1           1           1   \n",
       "1       NaN       4        NaN  ...           2           3           2   \n",
       "2       NaN       4          4  ...           1           2           2   \n",
       "3         4       4          4  ...           2           2           1   \n",
       "4       NaN       4        NaN  ...           2           2           2   \n",
       "\n",
       "  tier_unit_4 tier_unit_5 tier_unit_6 tier_unit_7 tier_unit_8 tier_unit_9  \\\n",
       "0         NaN         NaN         NaN         NaN         NaN         NaN   \n",
       "1           2           2           1           1         NaN         NaN   \n",
       "2           2           2           2           2           1         NaN   \n",
       "3           1           1           1         NaN         NaN         NaN   \n",
       "4           1           2           2           2           1         NaN   \n",
       "\n",
       "  tier_unit_10  \n",
       "0          NaN  \n",
       "1          NaN  \n",
       "2          NaN  \n",
       "3          NaN  \n",
       "4          NaN  \n",
       "\n",
       "[5 rows x 40 columns]"
      ]
     },
     "execution_count": 23,
     "metadata": {},
     "output_type": "execute_result"
    }
   ],
   "source": [
    "from etl.extract import data_from_summoner_name\n",
    "summoner_name = \"Oturam\"\n",
    "df = data_from_summoner_name(summoner_name, 10)\n",
    "df.head()"
   ]
  },
  {
   "cell_type": "markdown",
   "metadata": {},
   "source": [
    "# Cleaning"
   ]
  },
  {
   "cell_type": "code",
   "execution_count": 24,
   "metadata": {},
   "outputs": [],
   "source": [
    "from etl.transform import get_clean_full_data, get_most_common_data\n",
    "all_player_info, all_units, all_traits = get_clean_full_data(df)"
   ]
  },
  {
   "cell_type": "code",
   "execution_count": 11,
   "metadata": {},
   "outputs": [
    {
     "data": {
      "image/png": "[encoded data removed]",
      "text/plain": [
       "<Figure size 432x288 with 1 Axes>"
      ]
     },
     "metadata": {
      "needs_background": "light"
     },
     "output_type": "display_data"
    }
   ],
   "source": [
    "import matplotlib.pyplot as plt\n",
    "import seaborn as sns\n",
    "\n",
    "df_units = get_most_common_data(all_units, name=\"unit\")\n",
    "df_units[\"quantity\"] = df_units[\"quantity\"] / df.shape[0]\n",
    "\n",
    "fig, ax = plt.subplots() \n",
    "\n",
    "ax = sns.barplot(x=\"quantity\",\n",
    "                 y=\"unit\",\n",
    "                 color=\"blue\",\n",
    "                 data=df_units,\n",
    "                 ax=ax)\n",
    "\n",
    "ax.set_xlabel(\"Percentage\")\n",
    "ax.set_yticklabels(ax.get_yticklabels(), fontsize=8)\n",
    "plt.show()"
   ]
  },
  {
   "cell_type": "code",
   "execution_count": 12,
   "metadata": {},
   "outputs": [
    {
     "data": {
      "image/png": "[encoded data removed]",
      "text/plain": [
       "<Figure size 288x576 with 1 Axes>"
      ]
     },
     "metadata": {
      "needs_background": "light"
     },
     "output_type": "display_data"
    }
   ],
   "source": [
    "df_units = get_most_common_data(all_traits, name=\"traits\")\n",
    "df_units[\"quantity\"] = df_units[\"quantity\"] / df.shape[0]\n",
    "plt.figure(figsize=(4,8)) \n",
    "\n",
    "ax = sns.barplot(x=\"quantity\",\n",
    "                 y=\"traits\",\n",
    "                 color=\"blue\",\n",
    "                 data=df_units)\n",
    "\n",
    "ax.set_xlabel(\"Level per players\")\n",
    "ax.set_yticklabels(ax.get_yticklabels(), fontsize=8)\n",
    "plt.show()"
   ]
  },
  {
   "cell_type": "markdown",
   "metadata": {},
   "source": [
    "# Top players"
   ]
  },
  {
   "cell_type": "code",
   "execution_count": 46,
   "metadata": {},
   "outputs": [
    {
     "data": {
      "text/html": [
       "<div>\n",
       "<style scoped>\n",
       "    .dataframe tbody tr th:only-of-type {\n",
       "        vertical-align: middle;\n",
       "    }\n",
       "\n",
       "    .dataframe tbody tr th {\n",
       "        vertical-align: top;\n",
       "    }\n",
       "\n",
       "    .dataframe thead th {\n",
       "        text-align: right;\n",
       "    }\n",
       "</style>\n",
       "<table border=\"1\" class=\"dataframe\">\n",
       "  <thead>\n",
       "    <tr style=\"text-align: right;\">\n",
       "      <th></th>\n",
       "      <th>match_id</th>\n",
       "      <th>data_version</th>\n",
       "      <th>level</th>\n",
       "      <th>placement</th>\n",
       "      <th>puuid</th>\n",
       "      <th>Arcanist</th>\n",
       "      <th>Assassin</th>\n",
       "      <th>Bodyguard</th>\n",
       "      <th>Bruiser</th>\n",
       "      <th>Challenger</th>\n",
       "      <th>...</th>\n",
       "      <th>tier_unit_0</th>\n",
       "      <th>tier_unit_1</th>\n",
       "      <th>tier_unit_2</th>\n",
       "      <th>tier_unit_3</th>\n",
       "      <th>tier_unit_4</th>\n",
       "      <th>tier_unit_5</th>\n",
       "      <th>tier_unit_6</th>\n",
       "      <th>tier_unit_7</th>\n",
       "      <th>tier_unit_8</th>\n",
       "      <th>tier_unit_9</th>\n",
       "    </tr>\n",
       "  </thead>\n",
       "  <tbody>\n",
       "    <tr>\n",
       "      <th>4</th>\n",
       "      <td>BR1_2459013201</td>\n",
       "      <td>5</td>\n",
       "      <td>9</td>\n",
       "      <td>2</td>\n",
       "      <td>RNAOAfUbuqU9vMHgTkdvuom3IGDSPk8BR1H0jQzX8i4aFx...</td>\n",
       "      <td>NaN</td>\n",
       "      <td>NaN</td>\n",
       "      <td>NaN</td>\n",
       "      <td>4</td>\n",
       "      <td>4</td>\n",
       "      <td>...</td>\n",
       "      <td>2</td>\n",
       "      <td>2</td>\n",
       "      <td>2</td>\n",
       "      <td>2</td>\n",
       "      <td>2</td>\n",
       "      <td>2</td>\n",
       "      <td>2</td>\n",
       "      <td>2</td>\n",
       "      <td>2</td>\n",
       "      <td>NaN</td>\n",
       "    </tr>\n",
       "    <tr>\n",
       "      <th>5</th>\n",
       "      <td>BR1_2459013201</td>\n",
       "      <td>5</td>\n",
       "      <td>8</td>\n",
       "      <td>1</td>\n",
       "      <td>raFbU5PamnC1UkFnrzAfdd8OGI9LfK3ERzxAhRdv_EmtgB...</td>\n",
       "      <td>4</td>\n",
       "      <td>NaN</td>\n",
       "      <td>NaN</td>\n",
       "      <td>NaN</td>\n",
       "      <td>NaN</td>\n",
       "      <td>...</td>\n",
       "      <td>2</td>\n",
       "      <td>2</td>\n",
       "      <td>2</td>\n",
       "      <td>2</td>\n",
       "      <td>3</td>\n",
       "      <td>2</td>\n",
       "      <td>2</td>\n",
       "      <td>1</td>\n",
       "      <td>NaN</td>\n",
       "      <td>NaN</td>\n",
       "    </tr>\n",
       "    <tr>\n",
       "      <th>7</th>\n",
       "      <td>BR1_2459013201</td>\n",
       "      <td>5</td>\n",
       "      <td>8</td>\n",
       "      <td>3</td>\n",
       "      <td>lOjpV-_Bv0O9XhqRcFcBJwPWSmEXGXHWs76bHotiYSO-Yx...</td>\n",
       "      <td>4</td>\n",
       "      <td>3</td>\n",
       "      <td>4</td>\n",
       "      <td>NaN</td>\n",
       "      <td>NaN</td>\n",
       "      <td>...</td>\n",
       "      <td>3</td>\n",
       "      <td>3</td>\n",
       "      <td>3</td>\n",
       "      <td>2</td>\n",
       "      <td>3</td>\n",
       "      <td>1</td>\n",
       "      <td>1</td>\n",
       "      <td>1</td>\n",
       "      <td>NaN</td>\n",
       "      <td>NaN</td>\n",
       "    </tr>\n",
       "    <tr>\n",
       "      <th>10</th>\n",
       "      <td>BR1_2458781994</td>\n",
       "      <td>5</td>\n",
       "      <td>8</td>\n",
       "      <td>3</td>\n",
       "      <td>iu2kTov20Dc3Q75FR8-Cd10dh_JhJK_wpI55FoPueNLr3F...</td>\n",
       "      <td>NaN</td>\n",
       "      <td>3</td>\n",
       "      <td>4</td>\n",
       "      <td>NaN</td>\n",
       "      <td>NaN</td>\n",
       "      <td>...</td>\n",
       "      <td>2</td>\n",
       "      <td>3</td>\n",
       "      <td>1</td>\n",
       "      <td>3</td>\n",
       "      <td>3</td>\n",
       "      <td>3</td>\n",
       "      <td>2</td>\n",
       "      <td>1</td>\n",
       "      <td>NaN</td>\n",
       "      <td>NaN</td>\n",
       "    </tr>\n",
       "    <tr>\n",
       "      <th>12</th>\n",
       "      <td>BR1_2458781994</td>\n",
       "      <td>5</td>\n",
       "      <td>8</td>\n",
       "      <td>2</td>\n",
       "      <td>RNAOAfUbuqU9vMHgTkdvuom3IGDSPk8BR1H0jQzX8i4aFx...</td>\n",
       "      <td>4</td>\n",
       "      <td>NaN</td>\n",
       "      <td>4</td>\n",
       "      <td>4</td>\n",
       "      <td>4</td>\n",
       "      <td>...</td>\n",
       "      <td>2</td>\n",
       "      <td>2</td>\n",
       "      <td>2</td>\n",
       "      <td>2</td>\n",
       "      <td>2</td>\n",
       "      <td>1</td>\n",
       "      <td>2</td>\n",
       "      <td>NaN</td>\n",
       "      <td>NaN</td>\n",
       "      <td>NaN</td>\n",
       "    </tr>\n",
       "  </tbody>\n",
       "</table>\n",
       "<p>5 rows × 38 columns</p>\n",
       "</div>"
      ],
      "text/plain": [
       "          match_id data_version level placement  \\\n",
       "4   BR1_2459013201            5     9         2   \n",
       "5   BR1_2459013201            5     8         1   \n",
       "7   BR1_2459013201            5     8         3   \n",
       "10  BR1_2458781994            5     8         3   \n",
       "12  BR1_2458781994            5     8         2   \n",
       "\n",
       "                                                puuid Arcanist Assassin  \\\n",
       "4   RNAOAfUbuqU9vMHgTkdvuom3IGDSPk8BR1H0jQzX8i4aFx...      NaN      NaN   \n",
       "5   raFbU5PamnC1UkFnrzAfdd8OGI9LfK3ERzxAhRdv_EmtgB...        4      NaN   \n",
       "7   lOjpV-_Bv0O9XhqRcFcBJwPWSmEXGXHWs76bHotiYSO-Yx...        4        3   \n",
       "10  iu2kTov20Dc3Q75FR8-Cd10dh_JhJK_wpI55FoPueNLr3F...      NaN        3   \n",
       "12  RNAOAfUbuqU9vMHgTkdvuom3IGDSPk8BR1H0jQzX8i4aFx...        4      NaN   \n",
       "\n",
       "   Bodyguard Bruiser Challenger  ... tier_unit_0 tier_unit_1 tier_unit_2  \\\n",
       "4        NaN       4          4  ...           2           2           2   \n",
       "5        NaN     NaN        NaN  ...           2           2           2   \n",
       "7          4     NaN        NaN  ...           3           3           3   \n",
       "10         4     NaN        NaN  ...           2           3           1   \n",
       "12         4       4          4  ...           2           2           2   \n",
       "\n",
       "   tier_unit_3 tier_unit_4 tier_unit_5 tier_unit_6 tier_unit_7 tier_unit_8  \\\n",
       "4            2           2           2           2           2           2   \n",
       "5            2           3           2           2           1         NaN   \n",
       "7            2           3           1           1           1         NaN   \n",
       "10           3           3           3           2           1         NaN   \n",
       "12           2           2           1           2         NaN         NaN   \n",
       "\n",
       "   tier_unit_9  \n",
       "4          NaN  \n",
       "5          NaN  \n",
       "7          NaN  \n",
       "10         NaN  \n",
       "12         NaN  \n",
       "\n",
       "[5 rows x 38 columns]"
      ]
     },
     "execution_count": 46,
     "metadata": {},
     "output_type": "execute_result"
    }
   ],
   "source": [
    "top_players = df[df[\"placement\"].isin([1, 2, 3])]\n",
    "top_players.head()"
   ]
  },
  {
   "cell_type": "code",
   "execution_count": 55,
   "metadata": {},
   "outputs": [],
   "source": [
    "all_player_info, all_units, all_traits = get_clean_full_data(df)"
   ]
  },
  {
   "cell_type": "code",
   "execution_count": 56,
   "metadata": {},
   "outputs": [
    {
     "data": {
      "image/png": "[encoded data removed]",
      "text/plain": [
       "<Figure size 288x720 with 1 Axes>"
      ]
     },
     "metadata": {
      "needs_background": "light"
     },
     "output_type": "display_data"
    }
   ],
   "source": [
    "df_units = get_most_common_data(all_units, name=\"unit\")\n",
    "df_units[\"quantity\"] = df_units[\"quantity\"] / df.shape[0]\n",
    "\n",
    "plt.figure(figsize=(4,10)) \n",
    "\n",
    "ax = sns.barplot(x=\"quantity\",\n",
    "                 y=\"unit\",\n",
    "                 color=\"blue\",\n",
    "                 data=df_units)\n",
    "\n",
    "ax.set_xlabel(\"Percentage\")\n",
    "ax.set_yticklabels(ax.get_yticklabels(), fontsize=8)\n",
    "plt.show()"
   ]
  },
  {
   "cell_type": "code",
   "execution_count": 57,
   "metadata": {},
   "outputs": [
    {
     "data": {
      "image/png": "[encoded data removed]",
      "text/plain": [
       "<Figure size 288x576 with 1 Axes>"
      ]
     },
     "metadata": {
      "needs_background": "light"
     },
     "output_type": "display_data"
    }
   ],
   "source": [
    "df_units = get_most_common_data(all_traits, name=\"traits\")\n",
    "df_units[\"quantity\"] = df_units[\"quantity\"] / df.shape[0]\n",
    "plt.figure(figsize=(4,8)) \n",
    "\n",
    "ax = sns.barplot(x=\"quantity\",\n",
    "                 y=\"traits\",\n",
    "                 color=\"blue\",\n",
    "                 data=df_units)\n",
    "\n",
    "ax.set_xlabel(\"Level per players\")\n",
    "ax.set_yticklabels(ax.get_yticklabels(), fontsize=8)\n",
    "plt.show()"
   ]
  },
  {
   "cell_type": "markdown",
   "metadata": {},
   "source": [
    "# You (get PUIID)"
   ]
  },
  {
   "cell_type": "code",
   "execution_count": null,
   "metadata": {},
   "outputs": [],
   "source": [
    "player_puuid = ...\n",
    "you_df = df[df[\"puuid\"] == player_puuid]"
   ]
  }
 ],
 "metadata": {
  "interpreter": {
   "hash": "42bc8b29dafe280a0ee870729414408d49213118ee9f2e2d5650f7518e752ba4"
  },
  "kernelspec": {
   "display_name": "Python 3.8.10 64-bit ('lol-env': venv)",
   "language": "python",
   "name": "python3"
  },
  "language_info": {
   "codemirror_mode": {
    "name": "ipython",
    "version": 3
   },
   "file_extension": ".py",
   "mimetype": "text/x-python",
   "name": "python",
   "nbconvert_exporter": "python",
   "pygments_lexer": "ipython3",
   "version": "3.8.10"
  },
  "orig_nbformat": 4
 },
 "nbformat": 4,
 "nbformat_minor": 2
}
